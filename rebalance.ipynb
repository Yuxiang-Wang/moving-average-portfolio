{
 "cells": [
  {
   "cell_type": "code",
   "execution_count": 130,
   "metadata": {},
   "outputs": [],
   "source": [
    "import pandas_datareader.data as web\n",
    "import os\n",
    "import pandas as pd\n",
    "import datetime as dt\n",
    "import numpy as np\n",
    "import matplotlib.pyplot as plt"
   ]
  },
  {
   "cell_type": "code",
   "execution_count": 131,
   "metadata": {},
   "outputs": [],
   "source": [
    "def get_df(path,file=None):\n",
    "    if file:\n",
    "        path=''.join([path,file])\n",
    "    df=pd.read_csv(path)\n",
    "    df['Date']=pd.to_datetime(df['Date'],format='%Y-%m-%d')\n",
    "    df = df.drop(columns=['Unnamed: 0'])\n",
    "    return df    "
   ]
  },
  {
   "cell_type": "code",
   "execution_count": 132,
   "metadata": {},
   "outputs": [],
   "source": [
    "def rebalance(path,name=None):\n",
    "    if name:\n",
    "        path=''.join([path,name])\n",
    "    df = get_df(stock_csv_folder,name)\n",
    "    \n",
    "    start = df['Date'][len(df)-1].to_pydatetime().date()\n",
    "    end = dt.date.today()\n",
    "    ticker = name.split('.')[0]\n",
    "    new = web.DataReader(ticker,'yahoo',start,end)\n",
    "\n",
    "    new['ret'] = np.log(new['Close']/new['Close'].shift(1))\n",
    "    new = new.dropna()\n",
    "    new = new.reset_index()\n",
    "\n",
    "    data = pd.concat([df,new],ignore_index=True)\n",
    "    data.to_csv(''.join([stock_csv_folder,name]))"
   ]
  },
  {
   "cell_type": "code",
   "execution_count": 133,
   "metadata": {},
   "outputs": [
    {
     "data": {
      "text/plain": [
       "['AABA.csv', 'AAL.csv', 'AAME.csv', 'AAOI.csv', 'AAON.csv']"
      ]
     },
     "execution_count": 133,
     "metadata": {},
     "output_type": "execute_result"
    }
   ],
   "source": [
    "stock_csv_folder = \"C:/Users/yuxiang/Desktop/alpha/stocks/\"\n",
    "stock_csv_names = sorted(os.listdir(stock_csv_folder))\n",
    "stock_csv_names[:5]"
   ]
  },
  {
   "cell_type": "code",
   "execution_count": 135,
   "metadata": {},
   "outputs": [
    {
     "name": "stdout",
     "output_type": "stream",
     "text": [
      "100\n",
      "200\n",
      "300\n",
      "400\n",
      "500\n",
      "600\n",
      "700\n",
      "800\n",
      "900\n",
      "1000\n",
      "1100\n",
      "1200\n",
      "1300\n",
      "1400\n",
      "1500\n",
      "1600\n",
      "1700\n",
      "1800\n",
      "1900\n",
      "2000\n",
      "2100\n",
      "2200\n",
      "2300\n",
      "2400\n",
      "2500\n",
      "2600\n",
      "2700\n",
      "2800\n",
      "2900\n",
      "3000\n",
      "3100\n",
      "3200\n"
     ]
    },
    {
     "name": "stderr",
     "output_type": "stream",
     "text": [
      "d:\\program files\\python37\\lib\\site-packages\\ipykernel_launcher.py:15: FutureWarning: Sorting because non-concatenation axis is not aligned. A future version\n",
      "of pandas will change to not sort by default.\n",
      "\n",
      "To accept the future behavior, pass 'sort=False'.\n",
      "\n",
      "To retain the current behavior and silence the warning, pass 'sort=True'.\n",
      "\n",
      "  from ipykernel import kernelapp as app\n"
     ]
    }
   ],
   "source": [
    "n=0\n",
    "error=[]\n",
    "for csv_name in stock_csv_names:\n",
    "    try:\n",
    "        rebalance(stock_csv_folder,csv_name)\n",
    "        n+=1\n",
    "        if not n%100:\n",
    "            print(n)\n",
    "    except:\n",
    "        error.append(csv_name)\n",
    "        n+=1\n",
    "        if not n%100:\n",
    "            print(n)"
   ]
  }
 ],
 "metadata": {
  "kernelspec": {
   "display_name": "Python 3",
   "language": "python",
   "name": "python3"
  },
  "language_info": {
   "codemirror_mode": {
    "name": "ipython",
    "version": 3
   },
   "file_extension": ".py",
   "mimetype": "text/x-python",
   "name": "python",
   "nbconvert_exporter": "python",
   "pygments_lexer": "ipython3",
   "version": "3.7.0"
  }
 },
 "nbformat": 4,
 "nbformat_minor": 2
}
