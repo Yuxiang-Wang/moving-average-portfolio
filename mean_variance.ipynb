{
 "cells": [
  {
   "cell_type": "markdown",
   "metadata": {},
   "source": [
    "# mean variance, no short "
   ]
  },
  {
   "cell_type": "code",
   "execution_count": 1,
   "metadata": {},
   "outputs": [],
   "source": [
    "import os\n",
    "import pandas as pd\n",
    "import datetime as dt\n",
    "import numpy as np\n",
    "import matplotlib.pyplot as plt\n",
    "from scipy.sparse import diags"
   ]
  },
  {
   "cell_type": "code",
   "execution_count": 2,
   "metadata": {},
   "outputs": [],
   "source": [
    "import mylib as ml"
   ]
  },
  {
   "cell_type": "code",
   "execution_count": 5,
   "metadata": {},
   "outputs": [],
   "source": [
    "stock_csv_folder = \"C:/Users/yuxiang/Desktop/alpha/stocks/\"\n",
    "stock_csv_names = sorted(os.listdir(stock_csv_folder))\n",
    "stocks = stock_csv_names[:5]"
   ]
  },
  {
   "cell_type": "code",
   "execution_count": 394,
   "metadata": {},
   "outputs": [],
   "source": [
    "def get_returns(stock_csv_folder,stock_csv_names):\n",
    "    ret=np.zeros((1,200),'float')\n",
    "    stocks=[]\n",
    "    for csv_name in stock_csv_names:\n",
    "        df = ml.get_df(stock_csv_folder,csv_name)\n",
    "        if len(df)<200:\n",
    "            continue\n",
    "        if df['Date'][len(df)-1].to_pydatetime().date() != dt.date.today():\n",
    "            continue\n",
    "        stocks.append(csv_name)\n",
    "        r = np.array(df['ret'][-200:]).reshape(1,200)\n",
    "        ret=np.vstack([ret,r])\n",
    "    ret = ret[1:]\n",
    "    return ret\n",
    "\n",
    "def long_only_weights(N,num):\n",
    "    weight = np.zeros((N,num))\n",
    "    for j in range(N):\n",
    "        for i in range(num-1):\n",
    "            weight[j,i] = np.random.uniform(0,1-weight[j].sum())\n",
    "    weight[:,-1] = 1-weight.sum(axis=-1)\n",
    "    for i in range(N):\n",
    "        np.random.shuffle(weight[i])\n",
    "    return weight\n",
    "\n",
    "def alloc(ret,cov,w):\n",
    "    return ret.dot(w),np.sqrt(w.dot(cov.dot(w)))"
   ]
  },
  {
   "cell_type": "markdown",
   "metadata": {},
   "source": [
    "#### returns"
   ]
  },
  {
   "cell_type": "code",
   "execution_count": 202,
   "metadata": {},
   "outputs": [],
   "source": [
    "tickers=['AABA', 'AAL', 'AAME', 'AAOI', 'AAON', 'AAPL', 'AAWW', 'AAXJ', 'AAXN', 'ABCB', 'ABDC', 'ABEO', 'ABTX', 'ACAD', 'ACBI']"
   ]
  },
  {
   "cell_type": "code",
   "execution_count": null,
   "metadata": {},
   "outputs": [],
   "source": [
    "tickers = ['IQ', 'BTEC', 'DBVT', 'CSWC', 'BICK', 'TOUR', 'LMST', 'DGRE', 'FAAR', 'ZIXI', 'RVNC', 'HIBB', 'BOOM', 'TBBK', 'DOGZ']"
   ]
  },
  {
   "cell_type": "code",
   "execution_count": 203,
   "metadata": {},
   "outputs": [],
   "source": [
    "hold = [''.join([i,'.csv']) for i in tickers]"
   ]
  },
  {
   "cell_type": "markdown",
   "metadata": {},
   "source": [
    "tempname = stocks[:5]\n",
    "ret = ml.get_returns(stock_csv_folder,tempname)"
   ]
  },
  {
   "cell_type": "code",
   "execution_count": 204,
   "metadata": {},
   "outputs": [
    {
     "data": {
      "text/plain": [
       "(15, 15, 15, (15, 15))"
      ]
     },
     "execution_count": 204,
     "metadata": {},
     "output_type": "execute_result"
    }
   ],
   "source": [
    "ret2=ml.get_returns(stock_csv_folder,hold)\n",
    "ret_mean = ret2.mean(axis=-1)\n",
    "ret_std = ret2.std(axis=-1)\n",
    "cov = np.cov(ret2)\n",
    "len(ret2),len(ret_mean),len(ret_std),cov.shape\n"
   ]
  },
  {
   "cell_type": "code",
   "execution_count": 206,
   "metadata": {},
   "outputs": [
    {
     "data": {
      "text/plain": [
       "(0.012551605791537936, 0.04820901857937561)"
      ]
     },
     "execution_count": 206,
     "metadata": {},
     "output_type": "execute_result"
    }
   ],
   "source": [
    "std_min, std_max = ret_std.min(), ret_std.max()\n",
    "std_min, std_max"
   ]
  },
  {
   "cell_type": "code",
   "execution_count": 207,
   "metadata": {},
   "outputs": [
    {
     "data": {
      "text/plain": [
       "(array([-4.98837675e-04, -1.55061771e-03,  1.38777878e-19, -6.32217346e-03,\n",
       "         1.61149911e-03, -6.56990080e-05, -1.90551081e-03, -4.58640643e-04,\n",
       "        -9.10688671e-04, -2.49127138e-03,  6.17896037e-04, -4.03310681e-03,\n",
       "        -1.14528614e-03,  2.08080214e-03, -7.61124209e-04]),\n",
       " array([0.01927843, 0.02688904, 0.04820902, 0.04088111, 0.01994617,\n",
       "        0.02016339, 0.02415565, 0.01255161, 0.03089357, 0.01952993,\n",
       "        0.0179412 , 0.04384768, 0.01636011, 0.0447667 , 0.01758298]))"
      ]
     },
     "execution_count": 207,
     "metadata": {},
     "output_type": "execute_result"
    }
   ],
   "source": [
    "ret_mean,ret_std"
   ]
  },
  {
   "cell_type": "markdown",
   "metadata": {},
   "source": [
    "#### weights"
   ]
  },
  {
   "cell_type": "code",
   "execution_count": 208,
   "metadata": {},
   "outputs": [],
   "source": [
    "num=len(ret_mean)\n",
    "N = 10000"
   ]
  },
  {
   "cell_type": "code",
   "execution_count": 209,
   "metadata": {},
   "outputs": [
    {
     "data": {
      "text/plain": [
       "(array([[8.82873989e-05, 1.44513032e-04, 2.17606350e-01, 2.71102503e-06,\n",
       "         4.91545700e-02, 4.23022906e-04, 2.15401264e-01, 1.85635800e-06,\n",
       "         3.88277451e-01, 9.27473986e-03, 3.63691704e-03, 8.41246376e-05,\n",
       "         1.65798521e-03, 7.26182231e-02, 4.16279839e-02],\n",
       "        [3.59847371e-08, 9.80612306e-04, 1.16418050e-05, 1.77602247e-02,\n",
       "         8.25528335e-08, 5.75879926e-01, 7.78043262e-02, 6.10808106e-08,\n",
       "         8.92792697e-02, 3.85488386e-02, 1.99594432e-01, 1.59546535e-05,\n",
       "         2.82813452e-06, 9.93226277e-05, 2.24444547e-05],\n",
       "        [4.75848198e-07, 1.86771012e-07, 6.95444673e-06, 2.18656379e-04,\n",
       "         3.34494570e-05, 2.35839811e-05, 9.45479899e-01, 7.77059809e-03,\n",
       "         1.79617502e-05, 3.35437543e-02, 4.58971486e-06, 1.17145318e-02,\n",
       "         4.52482807e-06, 1.86807512e-04, 9.94026013e-04],\n",
       "        [3.97551743e-09, 4.92644304e-08, 1.45076187e-01, 2.36526983e-01,\n",
       "         3.09482352e-01, 2.45061904e-07, 2.94460812e-05, 2.77313449e-01,\n",
       "         1.07133672e-05, 5.30379655e-07, 5.69459360e-04, 1.70128824e-02,\n",
       "         1.49087487e-09, 1.32047038e-02, 7.72994005e-04],\n",
       "        [9.18537776e-03, 2.02825455e-07, 3.42831486e-07, 1.24406410e-05,\n",
       "         4.31135233e-01, 1.23224398e-04, 8.58528323e-07, 1.62627284e-05,\n",
       "         4.84502377e-01, 6.97503371e-06, 3.41506638e-06, 7.89575533e-06,\n",
       "         8.47997177e-05, 5.67750810e-05, 7.48638193e-02]]),\n",
       " array([0.06820387, 0.06443093, 0.06717003, 0.06828637, 0.06462007,\n",
       "        0.06982585, 0.06607726, 0.06498043, 0.06641981, 0.0667802 ,\n",
       "        0.06678956, 0.06452447, 0.06575998, 0.06863013, 0.06750105]),\n",
       " array([1., 1., 1., ..., 1., 1., 1.]),\n",
       " 10000)"
      ]
     },
     "execution_count": 209,
     "metadata": {},
     "output_type": "execute_result"
    }
   ],
   "source": [
    "weight = ml.long_only_weights(N,num)\n",
    "weight[:5],weight.mean(axis=0),weight.sum(axis=-1),len(weight)"
   ]
  },
  {
   "cell_type": "code",
   "execution_count": 210,
   "metadata": {},
   "outputs": [
    {
     "data": {
      "image/png": "[encoded data removed]",
      "text/plain": [
       "<Figure size 576x432 with 5 Axes>"
      ]
     },
     "metadata": {
      "needs_background": "light"
     },
     "output_type": "display_data"
    }
   ],
   "source": [
    "plt.figure(figsize=(8,6))\n",
    "plt.subplot(5,1,1)\n",
    "plt.hist(weight[:,0],bins=40)\n",
    "\n",
    "plt.subplot(5,1,2)\n",
    "plt.hist(weight[:,1],bins=40)\n",
    "\n",
    "plt.subplot(5,1,3)\n",
    "plt.hist(weight[:,2],bins=40)\n",
    "\n",
    "plt.subplot(5,1,4)\n",
    "plt.hist(weight[:,3],bins=40)\n",
    "\n",
    "plt.subplot(5,1,5)\n",
    "plt.hist(weight[:,4],bins=40)\n",
    "\n",
    "plt.tight_layout(rect=[0, 0.03, 1, 0.95])\n",
    "plt.show()"
   ]
  },
  {
   "cell_type": "markdown",
   "metadata": {},
   "source": [
    "#### allocation"
   ]
  },
  {
   "cell_type": "code",
   "execution_count": 211,
   "metadata": {},
   "outputs": [],
   "source": [
    "port = np.zeros((N,2))\n",
    "for i in range(N):\n",
    "    port[i]=ml.alloc(ret_mean,cov,weight[i])"
   ]
  },
  {
   "cell_type": "markdown",
   "metadata": {},
   "source": [
    "#### efficient frontier"
   ]
  },
  {
   "cell_type": "code",
   "execution_count": 212,
   "metadata": {},
   "outputs": [
    {
     "data": {
      "text/plain": [
       "<matplotlib.collections.PathCollection at 0x215f133ffd0>"
      ]
     },
     "execution_count": 212,
     "metadata": {},
     "output_type": "execute_result"
    },
    {
     "data": {
      "image/png": "[encoded data removed]",
      "text/plain": [
       "<Figure size 432x288 with 1 Axes>"
      ]
     },
     "metadata": {
      "needs_background": "light"
     },
     "output_type": "display_data"
    }
   ],
   "source": [
    "plt.scatter(port[:,1],port[:,0])"
   ]
  },
  {
   "cell_type": "code",
   "execution_count": 213,
   "metadata": {},
   "outputs": [],
   "source": [
    "t = np.linspace(0,std_max,100)"
   ]
  },
  {
   "cell_type": "code",
   "execution_count": 214,
   "metadata": {},
   "outputs": [],
   "source": [
    "efficient = np.zeros((len(t)-1,2))\n",
    "for i in range(len(t)-1):\n",
    "    try:\n",
    "        con = np.asarray(t[i]<port[:,1]) & np.asarray(t[i+1]>port[:,1])\n",
    "        port_con = port.T[:,con].T\n",
    "        #efficient[i]=port_con.max(axis=0)  ## mind max usage\n",
    "        efficient[i]=port_con.T[:,port_con[:,0]==port_con[:,0].max()].T\n",
    "    except:\n",
    "        pass"
   ]
  },
  {
   "cell_type": "code",
   "execution_count": 215,
   "metadata": {},
   "outputs": [],
   "source": [
    "efficient_after = efficient.T[:,efficient.sum(axis=-1)>0].T"
   ]
  },
  {
   "cell_type": "code",
   "execution_count": 216,
   "metadata": {},
   "outputs": [
    {
     "data": {
      "text/plain": [
       "[<matplotlib.lines.Line2D at 0x215f1328128>]"
      ]
     },
     "execution_count": 216,
     "metadata": {},
     "output_type": "execute_result"
    },
    {
     "data": {
      "image/png": "[encoded data removed]",
      "text/plain": [
       "<Figure size 432x288 with 1 Axes>"
      ]
     },
     "metadata": {
      "needs_background": "light"
     },
     "output_type": "display_data"
    }
   ],
   "source": [
    "plt.plot(efficient_after[:,1],efficient_after[:,0])"
   ]
  },
  {
   "cell_type": "markdown",
   "metadata": {},
   "source": [
    "#### portfolio weight"
   ]
  },
  {
   "cell_type": "code",
   "execution_count": 245,
   "metadata": {},
   "outputs": [
    {
     "data": {
      "text/plain": [
       "array([[0.00121582, 0.01533656],\n",
       "       [0.00114825, 0.01588333],\n",
       "       [0.00136214, 0.01647442],\n",
       "       [0.00131101, 0.01675852],\n",
       "       [0.00137595, 0.01747595],\n",
       "       [0.00141411, 0.01785965],\n",
       "       [0.00146662, 0.01815313],\n",
       "       [0.00153139, 0.01883642],\n",
       "       [0.00156054, 0.01929717],\n",
       "       [0.00162819, 0.0195262 ]])"
      ]
     },
     "execution_count": 245,
     "metadata": {},
     "output_type": "execute_result"
    }
   ],
   "source": [
    "subport = efficient_after.T[:,(efficient_after[:,1]<0.020) & (efficient_after[:,1]>0.015)].T\n",
    "subport"
   ]
  },
  {
   "cell_type": "code",
   "execution_count": 246,
   "metadata": {},
   "outputs": [],
   "source": [
    "std=0.0195"
   ]
  },
  {
   "cell_type": "code",
   "execution_count": 247,
   "metadata": {},
   "outputs": [
    {
     "data": {
      "text/plain": [
       "array([[-0.00058883,  0.01907738],\n",
       "       [-0.00035379,  0.0156137 ],\n",
       "       [-0.00193772,  0.02345751],\n",
       "       ...,\n",
       "       [-0.00129874,  0.02152708],\n",
       "       [-0.00211362,  0.01807002],\n",
       "       [-0.00379672,  0.02513544]])"
      ]
     },
     "execution_count": 247,
     "metadata": {},
     "output_type": "execute_result"
    }
   ],
   "source": [
    "port"
   ]
  },
  {
   "cell_type": "code",
   "execution_count": 248,
   "metadata": {},
   "outputs": [
    {
     "data": {
      "text/plain": [
       "array([[0.00162819, 0.0195262 ]])"
      ]
     },
     "execution_count": 248,
     "metadata": {},
     "output_type": "execute_result"
    }
   ],
   "source": [
    "temp = np.abs(efficient[:,1]-std)\n",
    "max_port= efficient.T[:,temp==np.min(temp)].T\n",
    "max_port"
   ]
  },
  {
   "cell_type": "code",
   "execution_count": 249,
   "metadata": {},
   "outputs": [
    {
     "data": {
      "text/plain": [
       "array([[0.00162819, 0.0195262 ]])"
      ]
     },
     "execution_count": 249,
     "metadata": {},
     "output_type": "execute_result"
    }
   ],
   "source": [
    "port.T[:,(port[:,1]==max_port[:,1]) & (port[:,0]==max_port[:,0])].T"
   ]
  },
  {
   "cell_type": "code",
   "execution_count": 250,
   "metadata": {},
   "outputs": [],
   "source": [
    "ind = np.where((port[:,1]==max_port[:,1]) & (port[:,0]==max_port[:,0]))[0]"
   ]
  },
  {
   "cell_type": "markdown",
   "metadata": {},
   "source": [
    "w1"
   ]
  },
  {
   "cell_type": "code",
   "execution_count": 261,
   "metadata": {},
   "outputs": [
    {
     "data": {
      "text/plain": [
       "array([5.04147259e-03, 7.43086455e-04, 2.42220120e-06, 5.39231667e-06,\n",
       "       9.06710676e-01, 1.59147607e-04, 1.25871489e-06, 1.37755693e-06,\n",
       "       4.54057428e-08, 6.09309632e-04, 2.74757395e-06, 7.32312776e-04,\n",
       "       2.38753994e-06, 8.46842692e-02, 1.30409405e-03])"
      ]
     },
     "execution_count": 261,
     "metadata": {},
     "output_type": "execute_result"
    }
   ],
   "source": [
    "w = weight[ind].flatten() ; w"
   ]
  },
  {
   "cell_type": "code",
   "execution_count": 252,
   "metadata": {},
   "outputs": [
    {
     "data": {
      "text/plain": [
       "(0.001628194851749721, 0.01952619581657186)"
      ]
     },
     "execution_count": 252,
     "metadata": {},
     "output_type": "execute_result"
    }
   ],
   "source": [
    "ml.alloc(ret_mean,cov,w)"
   ]
  },
  {
   "cell_type": "markdown",
   "metadata": {},
   "source": [
    "w2"
   ]
  },
  {
   "cell_type": "code",
   "execution_count": 266,
   "metadata": {},
   "outputs": [
    {
     "data": {
      "text/plain": [
       "array([0.00505289, 0.        , 0.        , 0.        , 0.90876402,\n",
       "       0.        , 0.        , 0.        , 0.        , 0.        ,\n",
       "       0.        , 0.        , 0.        , 0.08487605, 0.00130705])"
      ]
     },
     "execution_count": 266,
     "metadata": {},
     "output_type": "execute_result"
    }
   ],
   "source": [
    "w2 = np.where(w>1e-03,w,0) \n",
    "w2 = w2/w2.sum(); w2"
   ]
  },
  {
   "cell_type": "code",
   "execution_count": 267,
   "metadata": {},
   "outputs": [
    {
     "data": {
      "text/plain": [
       "(0.0016375672646318858, 0.019540813318006438)"
      ]
     },
     "execution_count": 267,
     "metadata": {},
     "output_type": "execute_result"
    }
   ],
   "source": [
    "ml.alloc(ret_mean,cov,w2)"
   ]
  },
  {
   "cell_type": "code",
   "execution_count": 272,
   "metadata": {},
   "outputs": [
    {
     "name": "stdout",
     "output_type": "stream",
     "text": [
      "AABA\n",
      "AAON\n",
      "ACAD\n",
      "ACBI\n"
     ]
    }
   ],
   "source": [
    "for i in np.where(w2!=0)[0]:\n",
    "    print(tickers[i])"
   ]
  },
  {
   "cell_type": "code",
   "execution_count": 273,
   "metadata": {},
   "outputs": [
    {
     "data": {
      "text/plain": [
       "array([ 0.50528895,  0.        ,  0.        ,  0.        , 90.87640176,\n",
       "        0.        ,  0.        ,  0.        ,  0.        ,  0.        ,\n",
       "        0.        ,  0.        ,  0.        ,  8.48760456,  0.13070473])"
      ]
     },
     "execution_count": 273,
     "metadata": {},
     "output_type": "execute_result"
    }
   ],
   "source": [
    "w2*100"
   ]
  },
  {
   "cell_type": "markdown",
   "metadata": {},
   "source": [
    "w3"
   ]
  },
  {
   "cell_type": "code",
   "execution_count": 268,
   "metadata": {},
   "outputs": [
    {
     "data": {
      "text/plain": [
       "array([0.        , 0.        , 0.        , 0.        , 0.91458069,\n",
       "       0.        , 0.        , 0.        , 0.        , 0.        ,\n",
       "       0.        , 0.        , 0.        , 0.08541931, 0.        ])"
      ]
     },
     "execution_count": 268,
     "metadata": {},
     "output_type": "execute_result"
    }
   ],
   "source": [
    "w3 = np.where(w>1e-02,w,0) \n",
    "w3 = w3/w3.sum(); w3"
   ]
  },
  {
   "cell_type": "code",
   "execution_count": 269,
   "metadata": {},
   "outputs": [
    {
     "data": {
      "text/plain": [
       "(0.0016515866484127556, 0.019613534782262843)"
      ]
     },
     "execution_count": 269,
     "metadata": {},
     "output_type": "execute_result"
    }
   ],
   "source": [
    "ml.alloc(ret_mean,cov,w3)"
   ]
  },
  {
   "cell_type": "code",
   "execution_count": null,
   "metadata": {},
   "outputs": [],
   "source": []
  },
  {
   "cell_type": "code",
   "execution_count": 3,
   "metadata": {},
   "outputs": [],
   "source": [
    "r,std =0.0016375672646318858*252,0.019540813318006438*252**0.5"
   ]
  },
  {
   "cell_type": "code",
   "execution_count": 4,
   "metadata": {},
   "outputs": [
    {
     "data": {
      "text/plain": [
       "(0.4126669506872352, 0.31020079473230366, 1.3303220291339277)"
      ]
     },
     "execution_count": 4,
     "metadata": {},
     "output_type": "execute_result"
    }
   ],
   "source": [
    "r,std,r/std"
   ]
  },
  {
   "cell_type": "code",
   "execution_count": 253,
   "metadata": {},
   "outputs": [
    {
     "data": {
      "text/plain": [
       "(10000, 10000, 200, 15)"
      ]
     },
     "execution_count": 253,
     "metadata": {},
     "output_type": "execute_result"
    }
   ],
   "source": [
    "len(weight),len(port),len(ret.T),len(cov.T)"
   ]
  }
 ],
 "metadata": {
  "kernelspec": {
   "display_name": "Python 3",
   "language": "python",
   "name": "python3"
  },
  "language_info": {
   "codemirror_mode": {
    "name": "ipython",
    "version": 3
   },
   "file_extension": ".py",
   "mimetype": "text/x-python",
   "name": "python",
   "nbconvert_exporter": "python",
   "pygments_lexer": "ipython3",
   "version": "3.7.0"
  }
 },
 "nbformat": 4,
 "nbformat_minor": 2
}
